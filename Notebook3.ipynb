{
 "cells": [
  {
   "cell_type": "markdown",
   "metadata": {},
   "source": [
    "# Notebook 3: Reclassifying Variables\n",
    "\n",
    "In Notebook 2, we learned how to import a .csv file, rename our variables, \"slice\" our dataframe using [[]], and examine the distribution of numeric variables using the .describe() and seaborn plotting functions.\n",
    "\n",
    "In today's lab, we're going to focus on\n",
    "\n",
    "> Exploring categorical variables\n",
    "\n",
    "> Turning our categorical variables into dummies\n",
    "\n",
    "> Cleaning up numeric variables\n",
    "\n",
    "As with everything in Python, there are lots of different ways to do the same thing, so we're providing some basic code so you have what you need for Assignment 4.  But you may find that when you work with your own data, you'll need to explore the web for other code."
   ]
  },
  {
   "cell_type": "markdown",
   "metadata": {},
   "source": [
    "## 1.0 Reading in our libraries, our dataset, and renaming our variables\n",
    "\n",
    "The next few cells get us back to where we left off last week.  Remember, you need to run all the cells in order - libraries, read data, and rename data, otherwise Python will give you an error message!"
   ]
  },
  {
   "cell_type": "code",
   "execution_count": null,
   "metadata": {},
   "outputs": [],
   "source": [
    "# First, We're going to call in our libraries\n",
    "\n",
    "import numpy as np\n",
    "import pandas as pd\n",
    "import math\n",
    "from scipy import stats\n",
    "import seaborn as sns\n",
    "import matplotlib as plt\n",
    "from datascience import *\n",
    "\n",
    "pd.options.display.float_format = '{:.2f}'.format"
   ]
  },
  {
   "cell_type": "code",
   "execution_count": null,
   "metadata": {},
   "outputs": [],
   "source": [
    "#Show our plots in the Jupyter notebook\n",
    "%matplotlib inline"
   ]
  },
  {
   "cell_type": "code",
   "execution_count": null,
   "metadata": {},
   "outputs": [],
   "source": [
    "#When we start working with nan (missing) values, we can get RuntimeWarning errors - we're going to ignore them here\n",
    "import warnings\n",
    "warnings.filterwarnings(\"ignore\", category=RuntimeWarning) "
   ]
  },
  {
   "cell_type": "code",
   "execution_count": null,
   "metadata": {},
   "outputs": [],
   "source": [
    "#Now we're going to read in our data\n",
    "\n",
    "# Here is my code for reading in the complete CHIS data 2\n",
    "\n",
    "# col_list = ['AC47', 'AC42', 'SRSEX', 'AC46', 'POVLL', 'AE_VEGI', 'OMBSRR_P1','POVGWD_P1']\n",
    "#chis_df=pd.read_csv(\"CHIS_2018_Adult_All.csv\", usecols=col_list)\n",
    "#chis_df\n",
    "\n",
    "#today we're going to work with the extract as we did last week\n",
    "\n",
    "chis_df = pd.read_csv('CHISextract2018.csv')\n",
    "chis_df"
   ]
  },
  {
   "cell_type": "code",
   "execution_count": null,
   "metadata": {},
   "outputs": [],
   "source": [
    "chis_df.rename(columns={'AC47':'drank_water', \n",
    "                        'AC42':'nhood_fv', \n",
    "                        'AE_VEGI':'ate_fv',\n",
    "                        'SRSEX': 'sex',\n",
    "                        'AC46': 'drank_sweet',\n",
    "                        'OMBSRR_P1': 'race_ethnicity',\n",
    "                        'POVGWD_P1' : 'pov_ratio',\n",
    "                       'POVLL' : 'pov_cat'}, inplace=True)\n",
    "chis_df"
   ]
  },
  {
   "cell_type": "markdown",
   "metadata": {},
   "source": [
    "### Codebook\n",
    "\n",
    "> AC46: Number of times respondent drank sweet fruit drinks in past month\n",
    "\n",
    "> AC47: Number of times respondent drank water yesterday\n",
    "\n",
    "> AE_VEGI: Number of times respondent eats vegetables per week\n",
    "\n",
    "> AC42: Number of times respondent was able to find fresh fruits/vegetables in neighborhood\n",
    "(1=Never, 2=Sometimes, 3 = Usually, 4 = Always, 5=Doesn't eat f/v, 6: Doesn't shop for f/v, 7 Doesn't shop in neighborhood)\n",
    "\n",
    "> SRSEX: Self-reported Sex (1= Male, 2=Female)\n",
    "\n",
    "> OMBSRR_P1: Race/ethnicity\n",
    "(1=Hispanic, 2= White NH, 3=Black NH, 4=AmIndian/Alaska Native NH, 5=Asian NH, 6=Other or two or more)\n",
    "\n",
    "> POVLL: poverty level\n",
    "(1 = 0-99% FPL, 2=100-199% FPL, 3=200-299% FPL, 4=300% FPL and above)\n",
    "\n",
    "> POVGWD_P1: Family Poverty Threshold Level"
   ]
  },
  {
   "cell_type": "markdown",
   "metadata": {},
   "source": [
    "##  2.0  Exploring Categorical (or Nominal) Variables\n",
    "\n",
    "### 2.1 Exploring Nominal Binary Variables\n",
    "\n",
    "In addition to numeric variables, we also often have to work with \"nominal\" variables (those with a \"Name\").  Note that in the CHIS data, the variables that are nominal (e.g. sex, race/ethnicity) are actually assigned number values rather than strings.   \n",
    "\n",
    "Let's start with looking at the \"sex\" variable.  It has two possible values, \"Male\" and \"Female\".  This is known as a binary or dichotomous variable.  But, even though they are represented by the numbers 1 and 2, we can't treat them as numbers - e.g., adding 2 males together doesn't give us a female.\n",
    "\n",
    "    SRSEX: Self-reported Sex (1= Male, 2=Female)"
   ]
  },
  {
   "cell_type": "code",
   "execution_count": null,
   "metadata": {},
   "outputs": [],
   "source": [
    "chis_df[['sex']].head(5)"
   ]
  },
  {
   "cell_type": "code",
   "execution_count": null,
   "metadata": {},
   "outputs": [],
   "source": [
    "#A simple way to look the distribution of a binary variable is to request the value_counts()\n",
    "chis_df[['sex']].value_counts()"
   ]
  },
  {
   "cell_type": "code",
   "execution_count": null,
   "metadata": {},
   "outputs": [],
   "source": [
    "#another approach is to use the \"crosstab\" function available in pandas.  We'll be using crosstabs a lot when we do ttests,\n",
    "#so let's look at a simple example for now\n",
    "pd.crosstab(index=chis_df['sex'], columns='Total')"
   ]
  },
  {
   "cell_type": "code",
   "execution_count": null,
   "metadata": {},
   "outputs": [],
   "source": [
    "#we can also use the plot function above to look at the distribution visually\n",
    "sns.countplot(chis_df['sex'])"
   ]
  },
  {
   "cell_type": "markdown",
   "metadata": {},
   "source": [
    "### 2.2  Creating a dummy out of a binary variable\n",
    "\n",
    "Okay - we know from Tuesday's lecture that we need to change this into a ***dummy*** variable. A dummy variable always only takes two values - a 0 and a 1 - and in general, we give a \"1\" to the variable when the condition we're interested in exploring is met.  "
   ]
  },
  {
   "cell_type": "code",
   "execution_count": null,
   "metadata": {},
   "outputs": [],
   "source": [
    "#The fastest way to make dummies is to use the panda \"get_dummies\" function.  Let's try and it and see what happens\n",
    "#notice that the \"sex\" column is replaced by two new variables\n",
    "chis_df_1=pd.get_dummies(chis_df, columns=['sex'])\n",
    "chis_df_1"
   ]
  },
  {
   "cell_type": "code",
   "execution_count": null,
   "metadata": {},
   "outputs": [],
   "source": [
    "#Whenever you classify or create a new variable, it's always a good idea to check your work to see if it did what you expected\n",
    "pd.crosstab(chis_df_1['sex_1'], columns='Total')"
   ]
  },
  {
   "cell_type": "code",
   "execution_count": null,
   "metadata": {},
   "outputs": [],
   "source": [
    "#That works!  But I much prefer 'controlling' my operations, so I can be sure my code is running correctly.\n",
    "#Plus, I like naming my dummy variable so I don't get confused as to what is coded a 1 and what is coded a 0\n",
    "chis_df['male_dv']=chis_df['sex'].map({1:1, 2:0})\n",
    "pd.crosstab(chis_df['male_dv'], columns='count')"
   ]
  },
  {
   "cell_type": "markdown",
   "metadata": {},
   "source": [
    "### 2.3  Exploring Categorical Variables\n",
    "\n",
    "A more complicated type of \"nominal\" variable is one where we have more than 2 categories - we find these all the time in planning surveys!  (And most are ordinal, meaning that the numbers assigned move either up or down in some logical way.)\n",
    "\n",
    "    nhood_fv: Number of times respondent was able to find fresh fruits/vegetables in neighborhood\n",
    "    (1=Never, 2=Sometimes, 3 = Usually, 4 = Always, 5=Doesn't eat f/v, 6: Doesn't shop for f/v, 7 Doesn't shop in neighborhood)"
   ]
  },
  {
   "cell_type": "code",
   "execution_count": null,
   "metadata": {},
   "outputs": [],
   "source": [
    "#We can explore a categorical variable in just the same way as we did above- try exploring nhood_fv on your own\n"
   ]
  },
  {
   "cell_type": "code",
   "execution_count": null,
   "metadata": {},
   "outputs": [],
   "source": [
    "#Create a plot for it"
   ]
  },
  {
   "cell_type": "code",
   "execution_count": null,
   "metadata": {},
   "outputs": [],
   "source": [
    "#Get dummies works here too!  Remember, get dummies removes the original variable, so create a new dataframe\n"
   ]
  },
  {
   "cell_type": "code",
   "execution_count": null,
   "metadata": {},
   "outputs": [],
   "source": [
    "#But, I actually want to reclassify my variable, so again, I'm going to take a more intentional approach\n",
    "# the np.nan says to assign a 'missing' value for any observation where the person answered 5, 6, or 7\n",
    "chis_df['nhood_fv_dv']=chis_df['nhood_fv'].map({1:1, 2:1, 3:1, 4:0, 5:np.nan, 6:np.nan, 7:np.nan})\n",
    "pd.crosstab(chis_df['nhood_fv_dv'], columns='count')"
   ]
  },
  {
   "cell_type": "code",
   "execution_count": null,
   "metadata": {},
   "outputs": [],
   "source": [
    "#Here's another approach that works too, this time for the race/ethnicity data, creating a dummy for Hispanic\n",
    "chis_df['hispanic_dv']=np.where((chis_df['race_ethnicity'] == 1), 1,0)\n",
    "chis_df"
   ]
  },
  {
   "cell_type": "code",
   "execution_count": null,
   "metadata": {},
   "outputs": [],
   "source": [
    "#Create dummies for the rest of your race/ethnicity values"
   ]
  },
  {
   "cell_type": "code",
   "execution_count": null,
   "metadata": {},
   "outputs": [],
   "source": [
    "#Check your work - how can you be sure you did it right?"
   ]
  },
  {
   "cell_type": "markdown",
   "metadata": {},
   "source": [
    "## 3.0 Reclassifying Numeric Variables\n",
    "\n",
    "While we don't always need to recode numeric variables, sometimes we need to address outliers and/or we want to make our numeric data more meaningful.  For example, with our \"drank_water\" variable, we know we need to address both the \"99\" value and perhaps \"smooth\" out the fact that folks like to respond using even numbers."
   ]
  },
  {
   "cell_type": "markdown",
   "metadata": {},
   "source": [
    "### 3.1 Dropping extreme values or outliers\n",
    "\n",
    "Sometimes, you just need to drop some rows with specific values, or, remove all outliers in the dataset.  Let's take a look at it with the drank_water variable from last week."
   ]
  },
  {
   "cell_type": "code",
   "execution_count": null,
   "metadata": {},
   "outputs": [],
   "source": [
    "chis_df['drank_water'].describe()"
   ]
  },
  {
   "cell_type": "code",
   "execution_count": null,
   "metadata": {},
   "outputs": [],
   "source": [
    "sns.countplot(chis_df['drank_water']);"
   ]
  },
  {
   "cell_type": "code",
   "execution_count": null,
   "metadata": {},
   "outputs": [],
   "source": [
    "#Dropping outliers; this is easiest way - I like renaming my dataframe just in case code \n",
    "#does something I don't want it to\n",
    "chis_df_3 = chis_df[chis_df['drank_water'] < 99] \n",
    "chis_df_3['drank_water'].describe()"
   ]
  },
  {
   "cell_type": "code",
   "execution_count": null,
   "metadata": {},
   "outputs": [],
   "source": [
    "#You can also use a global cutoff, like a threshold for Z-scores, to omit certain observations from the dataframe\n",
    "#Note that including \"nan\" values can lead to error messages, so we're going to \"omit\" missing values in the calculation\n",
    "\n",
    "chis_df_z=chis_df[(np.abs(stats.zscore(chis_df, nan_policy='omit'))<3).all(axis=1)]\n",
    "chis_df_z.describe()"
   ]
  },
  {
   "cell_type": "code",
   "execution_count": null,
   "metadata": {},
   "outputs": [],
   "source": [
    "#How is the resulting dataframe different from the original?\n",
    "chis_df.describe()"
   ]
  },
  {
   "cell_type": "markdown",
   "metadata": {},
   "source": [
    "### 3.2  Reclassifying a numeric variable\n",
    "\n",
    "Let's create dummy variables to replace our drank water numeric variable.  Again, lots of ways to do this, but here is some helpful code when you want to specify precisely the \"bins\" you want to put your numeric data into."
   ]
  },
  {
   "cell_type": "code",
   "execution_count": null,
   "metadata": {},
   "outputs": [],
   "source": [
    "# create DV for rent burdened and severely rent burdened\n",
    "chis_df['fourorless_wtr_dv']=np.where((chis_df['drank_water']<5),1,0)\n",
    "chis_df['fivetoten_wtr_dv']=np.where(((chis_df['drank_water']>=5) & \n",
    "                                    (chis_df['drank_water']<10)),1,0)\n",
    "chis_df['tenormore_wtr_dv']=np.where((chis_df['drank_water']>=10),1,0)"
   ]
  },
  {
   "cell_type": "code",
   "execution_count": null,
   "metadata": {},
   "outputs": [],
   "source": [
    "chis_df"
   ]
  },
  {
   "cell_type": "markdown",
   "metadata": {},
   "source": [
    "## 4.0  That's it for now!\n",
    "\n",
    "By lab next week Thursday, you should have selected your dataset, and 5-6 variables you plan to explore, including 1 outcome variable. Explore, clean and reclassify each variable, and come with questions!"
   ]
  }
 ],
 "metadata": {
  "kernelspec": {
   "display_name": "Python 3",
   "language": "python",
   "name": "python3"
  },
  "language_info": {
   "codemirror_mode": {
    "name": "ipython",
    "version": 3
   },
   "file_extension": ".py",
   "mimetype": "text/x-python",
   "name": "python",
   "nbconvert_exporter": "python",
   "pygments_lexer": "ipython3",
   "version": "3.7.4"
  }
 },
 "nbformat": 4,
 "nbformat_minor": 4
}
