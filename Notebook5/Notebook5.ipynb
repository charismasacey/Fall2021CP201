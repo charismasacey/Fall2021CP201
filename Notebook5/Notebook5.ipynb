{
 "cells": [
  {
   "cell_type": "markdown",
   "metadata": {},
   "source": [
    "# Notebook 5: Inferential Statistics in Python: TTests, Chi-Square, and Correlation\n"
   ]
  },
  {
   "cell_type": "markdown",
   "metadata": {},
   "source": [
    "This notebook provides the code and explanation for how to do the three types of statistical tests in Python, TTests, Chi-Square, and Correlation.  The examples continue to use the CHIS data to explore relationships between \"drank sweet drinks\" and a number of explanatory or independent variables."
   ]
  },
  {
   "cell_type": "markdown",
   "metadata": {},
   "source": [
    "### Codebook\n",
    "\n",
    "> AC46: Number of times respondent drank sweet fruit drinks in past month\n",
    "\n",
    "> AC47: Number of times respondent drank water yesterday\n",
    "\n",
    "> AE_VEGI: Number of times respondent eats vegetables per week\n",
    "\n",
    "> AC42: Number of times respondent was able to find fresh fruits/vegetables in neighborhood\n",
    "(1=Never, 2=Sometimes, 3 = Usually, 4 = Always, 5=Doesn't eat f/v, 6: Doesn't shop for f/v, 7 Doesn't shop in neighborhood)\n",
    "\n",
    "> SRSEX: Self-reported Sex (1= Male, 2=Female)\n",
    "\n",
    "> OMBSRR_P1: Race/ethnicity\n",
    "(1=Hispanic, 2= White NH, 3=Black NH, 4=AmIndian/Alaska Native NH, 5=Asian NH, 6=Other or two or more)\n",
    "\n",
    "> POVLL: poverty level\n",
    "(1 = 0-99% FPL, 2=100-199% FPL, 3=200-299% FPL, 4=300% FPL and above)\n",
    "\n",
    "> POVGWD_P1: Family Poverty Threshold Level\n",
    "\n",
    "> RAKEDW0: Individual weight"
   ]
  },
  {
   "cell_type": "markdown",
   "metadata": {},
   "source": [
    "## 1 Libraries\n",
    "\n",
    "We're going to bring in our libraries - you'll notice some new libraries and fundtions - \"scipy\" is a library includes statistical analysis functions.  We're going to bring in the t and ttest_ind commands.  I'm also going to allow 4 decimal points in my number displays."
   ]
  },
  {
   "cell_type": "code",
   "execution_count": null,
   "metadata": {},
   "outputs": [],
   "source": [
    "#Call our libraries; note, we are adding some libraries to our notebook\n",
    "from statsmodels.stats.proportion import proportions_ztest\n",
    "import numpy as np\n",
    "import pandas as pd\n",
    "import math\n",
    "from scipy import stats\n",
    "from scipy.stats import t\n",
    "from scipy.stats import ttest_ind\n",
    "from scipy.stats import pearsonr\n",
    "from datascience import *\n",
    "\n",
    "pd.options.display.float_format = '{:.4f}'.format\n"
   ]
  },
  {
   "cell_type": "code",
   "execution_count": null,
   "metadata": {},
   "outputs": [],
   "source": [
    "import matplotlib\n",
    "import matplotlib.pyplot as plt\n",
    "import scipy "
   ]
  },
  {
   "cell_type": "code",
   "execution_count": null,
   "metadata": {},
   "outputs": [],
   "source": [
    "%matplotlib inline"
   ]
  },
  {
   "cell_type": "code",
   "execution_count": null,
   "metadata": {},
   "outputs": [],
   "source": [
    "pip install researchpy"
   ]
  },
  {
   "cell_type": "code",
   "execution_count": null,
   "metadata": {},
   "outputs": [],
   "source": [
    "pip install pingouin"
   ]
  },
  {
   "cell_type": "code",
   "execution_count": null,
   "metadata": {},
   "outputs": [],
   "source": [
    "import researchpy as rp\n",
    "import pingouin as pg"
   ]
  },
  {
   "cell_type": "code",
   "execution_count": null,
   "metadata": {},
   "outputs": [],
   "source": [
    "#When we start working with nan (missing) values, we can get warnings - we're going to ignore them here\n",
    "import warnings\n",
    "warnings.filterwarnings(\"ignore\") "
   ]
  },
  {
   "cell_type": "markdown",
   "metadata": {},
   "source": [
    "## 2 Bring in data and code variables"
   ]
  },
  {
   "cell_type": "code",
   "execution_count": null,
   "metadata": {},
   "outputs": [],
   "source": [
    "chis_df = pd.read_csv('chis_extract_2018_weights.csv')\n",
    "chis_df"
   ]
  },
  {
   "cell_type": "code",
   "execution_count": null,
   "metadata": {},
   "outputs": [],
   "source": [
    "chis_df.rename(columns={'AC47':'drank_water', \n",
    "                        'AC42':'nhood_fv', \n",
    "                        'AE_VEGI':'ate_fv',\n",
    "                        'SRSEX': 'sex',\n",
    "                        'AC46': 'drank_sweet',\n",
    "                        'OMBSRR_P1': 'race_ethnicity',\n",
    "                        'POVGWD_P1' : 'pov_ratio',\n",
    "                       'POVLL' : 'pov_cat',\n",
    "                       'RAKEDW0': 'weight'}, inplace=True)\n",
    "chis_df"
   ]
  },
  {
   "cell_type": "code",
   "execution_count": null,
   "metadata": {},
   "outputs": [],
   "source": [
    "#drop observations 3 StDev from the mean for the \"drank_sweet\" variable\n",
    "chis_df=chis_df[(np.abs(stats.zscore(chis_df['drank_sweet'], nan_policy='omit'))<3)]\n",
    "chis_df['drank_water'].describe()"
   ]
  },
  {
   "cell_type": "code",
   "execution_count": null,
   "metadata": {},
   "outputs": [],
   "source": [
    "# assign missing observations for drank water to be missing instead of '99'\n",
    "chis_df.loc[(chis_df.drank_water == 99),'drank_water']=np.nan\n",
    "chis_df['drank_water'].describe()"
   ]
  },
  {
   "cell_type": "code",
   "execution_count": null,
   "metadata": {},
   "outputs": [],
   "source": [
    "#Dummy for whether the respondent is in poverty\n",
    "chis_df['inpoverty_dv']=chis_df['pov_cat'].map({1:1, 2:0, 3:0, 4:0})"
   ]
  },
  {
   "cell_type": "code",
   "execution_count": null,
   "metadata": {},
   "outputs": [],
   "source": [
    "#Dummy for whether the person can never or only sometimes find fresh fruits and vegetables in their neighborhood\n",
    "chis_df['nofv_dv']=chis_df['nhood_fv'].map({1:1, 2:1, 3:0, 4:0, 5:np.nan, 6:np.nan, 7:np.nan})"
   ]
  },
  {
   "cell_type": "code",
   "execution_count": null,
   "metadata": {},
   "outputs": [],
   "source": [
    "#Text race/ethnicity variable\n",
    "chis_df.loc[(chis_df['race_ethnicity'] == 2), 'race_eth_text'] = 'NHWhite'  \n",
    "chis_df.loc[(chis_df['race_ethnicity']==5), 'race_eth_text'] = \"Asian\"\n",
    "chis_df.loc[(chis_df['race_ethnicity']==3), 'race_eth_text'] = \"Black\"\n",
    "chis_df.loc[(chis_df['race_ethnicity']==1), 'race_eth_text'] = \"Hispanic\"\n",
    "chis_df.loc[(chis_df['race_ethnicity']==4), 'race_eth_text'] = \"Other/Two Races\"\n",
    "chis_df.loc[(chis_df['race_ethnicity']==6), 'race_eth_text'] = \"Other/Two Races\""
   ]
  },
  {
   "cell_type": "code",
   "execution_count": null,
   "metadata": {},
   "outputs": [],
   "source": [
    "#A series of dummies for my race ethnicity variable\n",
    "chis_df['hispanic_dv']=np.where((chis_df['race_ethnicity'] == 1), 1,0)\n",
    "chis_df['white_dv']=np.where((chis_df['race_ethnicity'] == 2), 1,0)\n",
    "chis_df['black_dv']=np.where((chis_df['race_ethnicity'] == 3), 1,0)\n",
    "chis_df['asian_dv']=np.where((chis_df['race_ethnicity'] == 5), 1,0)\n",
    "chis_df['other_dv']=np.where((chis_df['race_ethnicity'] == 4) | (chis_df['race_ethnicity'] == 6), 1,0)\n",
    "chis_df"
   ]
  },
  {
   "cell_type": "markdown",
   "metadata": {},
   "source": [
    "## 3 The TTest\n",
    "\n",
    "The ttest is used when we are comparing differences in means between two groups. In this case, I'll be looking at whether the average number of sodas is statistically different for those in and out of poverty."
   ]
  },
  {
   "cell_type": "code",
   "execution_count": null,
   "metadata": {},
   "outputs": [],
   "source": [
    "#What is the average number of sodas by poverty status? (Hint - use \"groupby\" function)"
   ]
  },
  {
   "cell_type": "code",
   "execution_count": null,
   "metadata": {},
   "outputs": [],
   "source": [
    "# We can see that the mean is different from the cell above, but is the difference statistically significant?\n",
    "\n",
    "ttest_ind(chis_df[chis_df['inpoverty_dv'] == 1].drank_sweet, chis_df[chis_df['inpoverty_dv'] == 0].drank_sweet, equal_var = False, nan_policy=\"omit\")\n",
    "\n",
    "#The equal variance option allows you to specify whether you think the variances\n",
    "#of the two samples are the same.  Try and see what happens when you assume equal variances.  \n",
    "\n",
    "#Setting equal variances as \"false\" is going to give you a more conservative estimate of statistical significance.  \n",
    "\n",
    "#The nanpolicy tells Python to omit observations where the data are missing."
   ]
  },
  {
   "cell_type": "code",
   "execution_count": null,
   "metadata": {},
   "outputs": [],
   "source": [
    "# Try one on your own! Do respondents in poverty drink less water than those not in poverty?\n",
    "# First, run the descriptives - based on this, is your intuition that the difference is statistically significant?\n"
   ]
  },
  {
   "cell_type": "code",
   "execution_count": null,
   "metadata": {},
   "outputs": [],
   "source": [
    "#run the test"
   ]
  },
  {
   "cell_type": "code",
   "execution_count": null,
   "metadata": {},
   "outputs": [],
   "source": [
    "#Researchpy gives you a slightly different output that I find more helpful, but the conclusion is the same\n",
    "\n",
    "rp.ttest((chis_df[chis_df['inpoverty_dv']==1].drank_sweet), (chis_df[chis_df['inpoverty_dv']==0].drank_sweet))"
   ]
  },
  {
   "cell_type": "markdown",
   "metadata": {},
   "source": [
    "## 4 The Chi Square Test\n",
    "\n",
    "When we are examining our categorical data, we're going to use a different statistical test. (In other software packages, you can run a ttest of proportions, but the code in Python is more complex than the code for chi-square below, and you'll get the same results.) \n",
    "\n",
    "The Chi-Square test assesses whether the values in the \"cells\" of a 2-way contingency table are significantly different from what we would expect were there no relationship between the two variables.\n",
    "\n",
    "Again, there's lots of ways to run a chi-square test, but the best I've found comes from \"researchpy\", which is why we installed it above.\n"
   ]
  },
  {
   "cell_type": "code",
   "execution_count": null,
   "metadata": {},
   "outputs": [],
   "source": [
    "pd.crosstab(index=chis_df['inpoverty_dv'], columns=chis_df['nofv_dv'], normalize='index', margins=True, margins_name='Total')"
   ]
  },
  {
   "cell_type": "code",
   "execution_count": null,
   "metadata": {},
   "outputs": [],
   "source": [
    "#In this code, I'm creating two objects (\"table\" and \"results\")\n",
    "# and calling researchpy using rp.  I'll print out the table, and then\n",
    "# the results of the chi-square test.\n",
    "table, results = rp.crosstab(chis_df[\"inpoverty_dv\"], chis_df[\"nofv_dv\"], prop=\"row\", test=\"chi-square\")\n",
    "table"
   ]
  },
  {
   "cell_type": "code",
   "execution_count": null,
   "metadata": {},
   "outputs": [],
   "source": [
    "results"
   ]
  },
  {
   "cell_type": "code",
   "execution_count": null,
   "metadata": {},
   "outputs": [],
   "source": [
    "#Test to see if Blacks are less likely to have access to fresh fruits and vegetables than other race/ethnicity groups\n"
   ]
  },
  {
   "cell_type": "code",
   "execution_count": null,
   "metadata": {},
   "outputs": [],
   "source": [
    "#What about Asians?\n"
   ]
  },
  {
   "cell_type": "markdown",
   "metadata": {},
   "source": [
    "## 5 Correlation\n",
    "\n",
    "The correlation coefficient (sometimes referred to as Pearson's correlation coefficient, Pearson's product-moment correlation, or simply r) measures the strength of the linear relationship between two variables. \n",
    "\n",
    "The correlation coefficient is directly linked to the beta coefficient in a linear regression (= the slope of a best-fit line), but has the advantage of being standardized between -1 to 1 ; the former meaning a perfect negative linear relationship, and the latter a perfect positive linear relationship. In other words, no matter what are the original units of the two variables are, the correlation coefficient will always be in the range of -1 to 1, which makes it very easy to work with.\n",
    "\n",
    "The correlation coefficient *r*\n",
    "\n",
    "> The correlation coefficient ranges from −1 to 1. A value of 1 implies that a linear equation describes the relationship between X and Y perfectly, with all data points lying on a line for which Y increases as X increases. A value of −1 implies that all data points lie on a line for which Y decreases as X increases. A value of 0 implies that there is no linear relationship between the variables. \n",
    "\n",
    "<img src=\"py-corr-1.webp\" width=800 height=400 />\n",
    "\n",
    "In hypothesis testing, you want to find not only the correlation coefficient (the r value) but also the p-value."
   ]
  },
  {
   "cell_type": "code",
   "execution_count": null,
   "metadata": {},
   "outputs": [],
   "source": [
    "plt.scatter(chis_df[\"pov_ratio\"], chis_df[\"drank_sweet\"])\n",
    "plt.xlabel(\"Poverty Ratio\")\n",
    "plt.ylabel(\"Number of Sweet/Soda Drinks\")"
   ]
  },
  {
   "cell_type": "code",
   "execution_count": null,
   "metadata": {},
   "outputs": [],
   "source": [
    "#scipy gives us a quick printout of both pearson's r and our p-value\n",
    "pearsonr(chis_df['pov_ratio'], chis_df['drank_sweet'])"
   ]
  },
  {
   "cell_type": "code",
   "execution_count": null,
   "metadata": {},
   "outputs": [],
   "source": [
    "#my favorite is actually from the pingouin library, which gives the same output but in a more readable format\n",
    "pg.corr(x=chis_df['pov_ratio'], y=chis_df[\"drank_sweet\"])"
   ]
  },
  {
   "cell_type": "code",
   "execution_count": null,
   "metadata": {},
   "outputs": [],
   "source": [
    "#Test the hypothesis that people who drink more water drink less sweet drinks/sodas\n",
    "\n",
    "\n",
    "#is poverty or water drinking more strongly associated with the number of sweet drinks?"
   ]
  },
  {
   "cell_type": "code",
   "execution_count": null,
   "metadata": {},
   "outputs": [],
   "source": []
  }
 ],
 "metadata": {
  "kernelspec": {
   "display_name": "Python 3",
   "language": "python",
   "name": "python3"
  },
  "language_info": {
   "codemirror_mode": {
    "name": "ipython",
    "version": 3
   },
   "file_extension": ".py",
   "mimetype": "text/x-python",
   "name": "python",
   "nbconvert_exporter": "python",
   "pygments_lexer": "ipython3",
   "version": "3.8.6"
  }
 },
 "nbformat": 4,
 "nbformat_minor": 2
}
