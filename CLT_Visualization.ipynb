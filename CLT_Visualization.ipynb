{
 "cells": [
  {
   "cell_type": "markdown",
   "metadata": {},
   "source": [
    "# Introduction to the Central Limit Theorem\n",
    "\n",
    "This notebook is just a fun way to visualize the Central Limit Theorem using data we collected during class!  It's also a way to introduce you to the Python programming environment which we'll be starting to learn in a couple of weeks.\n",
    "\n",
    "To run a cell, all you have to do is hit Ctrl-Enter!"
   ]
  },
  {
   "cell_type": "code",
   "execution_count": null,
   "metadata": {},
   "outputs": [],
   "source": [
    "import matplotlib.pyplot as plt\n",
    "import numpy as np\n",
    "import random\n",
    "import scipy.stats as stats\n",
    "import pandas as pd"
   ]
  },
  {
   "cell_type": "code",
   "execution_count": null,
   "metadata": {},
   "outputs": [],
   "source": [
    "sheet_id ='1ieAN36faMOEUsCxE51-vRoQpdemkl_xQeLynnEjVKaM'"
   ]
  },
  {
   "cell_type": "code",
   "execution_count": null,
   "metadata": {},
   "outputs": [],
   "source": [
    "df=pd.read_csv(f\"https://docs.google.com/spreadsheets/d/{sheet_id}/export?format=csv\")\n",
    "df"
   ]
  },
  {
   "cell_type": "code",
   "execution_count": null,
   "metadata": {},
   "outputs": [],
   "source": [
    "# Step 2\n",
    "## sample from population with different number of sampling\n",
    "# a list of sample mean\n",
    "meansample = []\n",
    "# number of sample\n",
    "numofsample = [10, 100, 500, 1000]\n",
    "# sample size\n",
    "samplesize = 40\n",
    "# for each number of sampling \n",
    "for i in numofsample:\n",
    "    # collect mean of each sample\n",
    "    eachmeansample = []\n",
    "    # for each sampling\n",
    "    for j in range(0,i):\n",
    "        # sampling from population\n",
    "        rc = random.choices(df['Data_Example'], k=samplesize)\n",
    "        # collect mean of each sample\n",
    "        eachmeansample.append(sum(rc)/len(rc))\n",
    "    # add mean of each sampling to the list\n",
    "    meansample.append(eachmeansample)\n",
    "   \n",
    "\n",
    "if __name__ == \"__main__\":  \n",
    "    # plot\n",
    "    cols = 2\n",
    "    rows = 2\n",
    "    fig, ax = plt.subplots(rows, cols, figsize=(20,15))\n",
    "    n = 0\n",
    "    for i in range(0, rows):\n",
    "        for j in range(0, cols):\n",
    "            ax[i, j].hist(meansample[n], 30, density=True)\n",
    "            ax[i, j].set_title(label=\"number of sampling :\" + str(numofsample[n]))\n",
    "            n += 1\n",
    "    plt.show()"
   ]
  },
  {
   "cell_type": "code",
   "execution_count": null,
   "metadata": {},
   "outputs": [],
   "source": [
    "## standardize part\n",
    "import numpy as np\n",
    "import matplotlib.pyplot as plt\n",
    "import scipy.stats as stats\n",
    "\n",
    "# Step 1\n",
    "# use last sampling\n",
    "\n",
    "sm = meansample[len(meansample)-1]\n",
    "\n",
    "# Step 2\n",
    "# calculate start deviation\n",
    "std = np.std(sm)\n",
    "# set population mean\n",
    "mean = np.mean(sm)\n",
    "# list of standarded sample\n",
    "\n",
    "# Step 3\n",
    "zn = []\n",
    "# for each sample subtract with mean and divided by standard deviation\n",
    "for i in sm:\n",
    "    zn.append((i-mean)/std)\n",
    "    \n",
    "# Step 4\n",
    "# plot hist\n",
    "plt.figure(figsize=(20,10))\n",
    "plt.hist(zn, 200, density=True)\n",
    "# compare with standard normal distribution line\n",
    "mu = 0\n",
    "sigma = 1\n",
    "x = np.linspace(mu - 3*sigma, mu + 3*sigma, 100)\n",
    "# draw standard normal disrtibution line\n",
    "plt.plot(x, stats.norm.pdf(x, mu, sigma),linewidth = 5, color='red')\n",
    "plt.show()"
   ]
  },
  {
   "cell_type": "code",
   "execution_count": null,
   "metadata": {},
   "outputs": [],
   "source": []
  }
 ],
 "metadata": {
  "kernelspec": {
   "display_name": "Python 3 (ipykernel)",
   "language": "python",
   "name": "python3"
  },
  "language_info": {
   "codemirror_mode": {
    "name": "ipython",
    "version": 3
   },
   "file_extension": ".py",
   "mimetype": "text/x-python",
   "name": "python",
   "nbconvert_exporter": "python",
   "pygments_lexer": "ipython3",
   "version": "3.9.7"
  }
 },
 "nbformat": 4,
 "nbformat_minor": 2
}
